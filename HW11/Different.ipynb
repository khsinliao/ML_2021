{
 "cells": [
  {
   "cell_type": "code",
   "execution_count": 49,
   "metadata": {},
   "outputs": [
    {
     "name": "stdout",
     "output_type": "stream",
     "text": [
      "4808\n"
     ]
    }
   ],
   "source": [
    "import csv\n",
    "count = 0\n",
    "result_1 = []\n",
    "result_2 = []\n",
    "with open('submission_ensemble_81.csv' , 'r' , newline = '\\n') as f1:\n",
    "    with open('dirt/result_80_dirt.csv' , 'r' , newline = '\\n') as f2 :\n",
    "        reader_f1 = csv.reader(f1, delimiter=',') \n",
    "        reader_f2 = csv.reader(f2, delimiter=',') \n",
    "        for line in reader_f1 :\n",
    "            result_1.append(line[1])\n",
    "\n",
    "        for line_ in reader_f2 :\n",
    "            result_2.append(line_[1])\n",
    "\n",
    "for i in range(len(result_1)):\n",
    "    if result_1[i] != result_2[i]:\n",
    "        count+=1\n",
    "print(count)\n",
    "            \n",
    "        \n",
    "    "
   ]
  },
  {
   "cell_type": "code",
   "execution_count": null,
   "metadata": {},
   "outputs": [],
   "source": []
  }
 ],
 "metadata": {
  "kernelspec": {
   "display_name": "Python 3",
   "language": "python",
   "name": "python3"
  },
  "language_info": {
   "codemirror_mode": {
    "name": "ipython",
    "version": 3
   },
   "file_extension": ".py",
   "mimetype": "text/x-python",
   "name": "python",
   "nbconvert_exporter": "python",
   "pygments_lexer": "ipython3",
   "version": "3.8.5"
  }
 },
 "nbformat": 4,
 "nbformat_minor": 4
}
