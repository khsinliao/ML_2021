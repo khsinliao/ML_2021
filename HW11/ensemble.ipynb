{
 "cells": [
  {
   "cell_type": "code",
   "execution_count": 19,
   "metadata": {},
   "outputs": [],
   "source": [
    "import csv\n",
    "results = []\n",
    "\n",
    "files = ['submission_ensemble_81.csv','dirt/result_100_dirt.csv' , 'dirt/result_90_dirt.csv' , 'dirt/result_80_dirt.csv', 'dirt/result_70_dirt.csv', 'dirt/result_60_dirt.csv' , 'dirt/result_100_dirt_79.csv' , 'dirt/result_90_dirt_79.csv']\n",
    "for file in files :\n",
    "    with open (file ,newline = '\\n') as f:\n",
    "        count = 0\n",
    "        result = []\n",
    "        reader = csv.reader(f, delimiter=',')\n",
    "        for line in reader :\n",
    "            if count == 0: \n",
    "                count += 1\n",
    "                continue\n",
    "            result.append(int(line[1]))\n",
    "    results.append(result)"
   ]
  },
  {
   "cell_type": "code",
   "execution_count": 20,
   "metadata": {},
   "outputs": [],
   "source": [
    "import numpy as np\n",
    "from scipy import stats\n",
    "import pandas as pd\n",
    "result_ensemble = stats.mode(np.array(results))[0][0]\n",
    "# Generate your submission\n",
    "df = pd.DataFrame({'id': np.arange(0,len(result)), 'label': result_ensemble})\n",
    "df.to_csv('submission_ensemble_0604.csv',index=False)"
   ]
  },
  {
   "cell_type": "code",
   "execution_count": null,
   "metadata": {},
   "outputs": [],
   "source": []
  }
 ],
 "metadata": {
  "kernelspec": {
   "display_name": "Python 3",
   "language": "python",
   "name": "python3"
  },
  "language_info": {
   "codemirror_mode": {
    "name": "ipython",
    "version": 3
   },
   "file_extension": ".py",
   "mimetype": "text/x-python",
   "name": "python",
   "nbconvert_exporter": "python",
   "pygments_lexer": "ipython3",
   "version": "3.8.5"
  }
 },
 "nbformat": 4,
 "nbformat_minor": 4
}
